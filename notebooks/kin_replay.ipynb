{
 "cells": [
  {
   "cell_type": "code",
   "execution_count": 1,
   "metadata": {},
   "outputs": [],
   "source": [
    "%reload_ext autoreload\n",
    "%autoreload 2"
   ]
  },
  {
   "cell_type": "code",
   "execution_count": 2,
   "metadata": {},
   "outputs": [],
   "source": [
    "import pickle\n",
    "import numpy as np\n",
    "import pkg_resources\n",
    "from pathlib import Path\n",
    "from tqdm import trange\n",
    "\n",
    "from flygym.envs.nmf_mujoco import NeuroMechFlyMuJoCo\n",
    "from flygym.util.config import leg_dofs_fused_tarsi"
   ]
  },
  {
   "cell_type": "code",
   "execution_count": 81,
   "metadata": {},
   "outputs": [],
   "source": [
    "data_path = Path(pkg_resources.resource_filename('flygym', 'data'))\n",
    "with open(data_path / 'behavior' / '210902_pr_fly1.pkl', 'rb') as f:\n",
    "    data = pickle.load(f)"
   ]
  },
  {
   "cell_type": "code",
   "execution_count": null,
   "metadata": {},
   "outputs": [],
   "source": [
    "run_time = 1\n",
    "out_dir = Path('kin_replay')\n",
    "nmf = NeuroMechFlyMuJoCo(render_mode='saved', output_dir=out_dir,\n",
    "                         timestep=5e-4, actuated_joints=leg_dofs_fused_tarsi,\n",
    "                         init_pose='stretch')"
   ]
  },
  {
   "cell_type": "code",
   "execution_count": null,
   "metadata": {},
   "outputs": [],
   "source": [
    "import matplotlib.pyplot as plt\n",
    "plt.plot(data['LFCoxa'])"
   ]
  },
  {
   "cell_type": "code",
   "execution_count": null,
   "metadata": {},
   "outputs": [],
   "source": [
    "obs_list = []    # keep track of the observed states\n",
    "in_list = []\n",
    "for i in trange(int(run_time / nmf.timestep)):\n",
    "    joint_pos = [data[joint.replace('joint_', '')][i]\n",
    "                 for joint in nmf.actuated_joints]\n",
    "    # print(joint_pos)\n",
    "    if i == 10: break\n",
    "    in_list.append(joint_pos)\n",
    "    action = {'joints': joint_pos}\n",
    "    try:\n",
    "        obs, info = nmf.step(action)\n",
    "    except:\n",
    "        print(joint_pos)\n",
    "    nmf.render()\n",
    "    obs_list.append(obs)\n",
    "nmf.close()"
   ]
  },
  {
   "cell_type": "code",
   "execution_count": null,
   "metadata": {},
   "outputs": [],
   "source": [
    "np.isfinite(np.array(in_list)).all()"
   ]
  },
  {
   "cell_type": "code",
   "execution_count": null,
   "metadata": {},
   "outputs": [],
   "source": [
    "num_joints_to_plot = 1\n",
    "plt.plot([x['joints'][0, :num_joints_to_plot] for x in obs_list])\n",
    "plt.plot(np.array(in_list)[:, 0])"
   ]
  },
  {
   "cell_type": "code",
   "execution_count": 85,
   "metadata": {},
   "outputs": [],
   "source": [
    "\"\"\"Demo script for NeuroMechFlyMuJoCo environment:\n",
    "Execute an environment where all leg joints of the fly repeat a sinusoidal\n",
    "motion. The output will be saved as a video.\"\"\"\n",
    "\n",
    "import numpy as np\n",
    "import matplotlib.pyplot as plt\n",
    "from pathlib import Path\n",
    "from flygym.envs.nmf_mujoco import NeuroMechFlyMuJoCo\n",
    "from flygym.util.config import leg_dofs_fused_tarsi\n",
    "\n",
    "# First, we initialize simulation\n",
    "run_time = 1\n",
    "out_dir = Path('mujoco_basic_untethered_sinewave')\n",
    "nmf = NeuroMechFlyMuJoCo(render_mode='saved', output_dir=out_dir,\n",
    "                         timestep=1e-4, render_config={'playspeed': 0.1},\n",
    "                         init_pose='stretch')\n",
    "\n",
    "# Define the frequency, phase, and amplitude of the sinusoidal waves\n",
    "freq = 20\n",
    "phase = 2 * np.pi * np.random.rand(len(nmf.actuators))\n",
    "amp = 0.9\n",
    "num_steps = int(run_time / nmf.timestep)\n",
    "data_block = np.zeros((len(nmf.actuated_joints), num_steps))\n",
    "src_x = np.arange(len(data['LFCoxa'])) * 5\n",
    "tgt_x = np.arange(num_steps)\n",
    "for i, joint in enumerate(nmf.actuated_joints):\n",
    "    if (key := joint.replace('joint_', '')) in data:\n",
    "        data_block[i, :] = np.interp(tgt_x, src_x, data[key])"
   ]
  },
  {
   "cell_type": "code",
   "execution_count": 86,
   "metadata": {},
   "outputs": [],
   "source": [
    "assert np.all(np.isfinite(data_block))"
   ]
  },
  {
   "cell_type": "code",
   "execution_count": 87,
   "metadata": {},
   "outputs": [
    {
     "name": "stderr",
     "output_type": "stream",
     "text": [
      "100%|██████████| 10000/10000 [00:14<00:00, 708.71it/s]\n"
     ]
    }
   ],
   "source": [
    "import time\n",
    "obs_list = []\n",
    "for i in trange(num_steps):\n",
    "    #time.sleep(0.01)\n",
    "    joint_pos = data_block[:, i]\n",
    "    action = {'joints': joint_pos}\n",
    "    obs, info = nmf.step(action)\n",
    "    nmf.render()\n",
    "    obs_list.append(obs)\n",
    "nmf.close()"
   ]
  },
  {
   "cell_type": "code",
   "execution_count": 96,
   "metadata": {},
   "outputs": [],
   "source": [
    "\"\"\"Demo script for NeuroMechFlyMuJoCo environment:\n",
    "Execute an environment where all leg joints of the fly repeat a sinusoidal\n",
    "motion. The output will be saved as a video.\"\"\"\n",
    "\n",
    "import numpy as np\n",
    "import matplotlib.pyplot as plt\n",
    "from pathlib import Path\n",
    "from flygym.envs.nmf_mujoco import NeuroMechFlyMuJoCo\n",
    "from flygym.util.config import leg_dofs_fused_tarsi\n",
    "\n",
    "# Initialize simulation\n",
    "run_time = 1\n",
    "out_dir = Path('kin_replay')\n",
    "nmf = NeuroMechFlyMuJoCo(render_mode='saved',\n",
    "                         output_dir=out_dir,\n",
    "                         timestep=1e-4,\n",
    "                         render_config={'playspeed': 0.1},\n",
    "                         init_pose='stretch',\n",
    "                         actuated_joints=leg_dofs_fused_tarsi)\n",
    "\n",
    "# Load recorded data\n",
    "data_path = Path(pkg_resources.resource_filename('flygym', 'data'))\n",
    "with open(data_path / 'behavior' / '210902_pr_fly1.pkl', 'rb') as f:\n",
    "    data = pickle.load(f)\n",
    "\n",
    "# Interpolate 5x\n",
    "num_steps = int(run_time / nmf.timestep)\n",
    "data_block = np.zeros((len(nmf.actuated_joints), num_steps))\n",
    "measure_t = np.arange(len(data['joint_LFCoxa'])) * data['meta']['timestep']\n",
    "interp_t = np.arange(num_steps) * nmf.timestep\n",
    "for i, joint in enumerate(nmf.actuated_joints):\n",
    "    data_block[i, :] = np.interp(interp_t, measure_t, data[joint])"
   ]
  },
  {
   "cell_type": "code",
   "execution_count": 97,
   "metadata": {},
   "outputs": [
    {
     "name": "stderr",
     "output_type": "stream",
     "text": [
      "100%|██████████| 10000/10000 [00:13<00:00, 752.69it/s]\n"
     ]
    }
   ],
   "source": [
    "obs_list = []\n",
    "for i in trange(num_steps):\n",
    "    joint_pos = data_block[:, i]\n",
    "    action = {'joints': joint_pos}\n",
    "    obs, info = nmf.step(action)\n",
    "    nmf.render()\n",
    "    obs_list.append(obs)\n",
    "nmf.close()"
   ]
  },
  {
   "cell_type": "code",
   "execution_count": null,
   "metadata": {},
   "outputs": [],
   "source": []
  }
 ],
 "metadata": {
  "kernelspec": {
   "display_name": "flygym",
   "language": "python",
   "name": "python3"
  },
  "language_info": {
   "codemirror_mode": {
    "name": "ipython",
    "version": 3
   },
   "file_extension": ".py",
   "mimetype": "text/x-python",
   "name": "python",
   "nbconvert_exporter": "python",
   "pygments_lexer": "ipython3",
   "version": "3.8.16"
  },
  "orig_nbformat": 4,
  "vscode": {
   "interpreter": {
    "hash": "c59852332aaf9da574302dd025ef100eabc038e7fe3e9111c7011bf89b7be9c6"
   }
  }
 },
 "nbformat": 4,
 "nbformat_minor": 2
}
