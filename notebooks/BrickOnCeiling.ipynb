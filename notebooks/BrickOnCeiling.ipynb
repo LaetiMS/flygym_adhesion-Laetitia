{
 "cells": [
  {
   "cell_type": "code",
   "execution_count": 1,
   "metadata": {},
   "outputs": [],
   "source": [
    "from dm_control import mjcf\n",
    "from dm_control import mujoco\n",
    "from dm_control.mujoco.wrapper.mjbindings import enums\n",
    "\n",
    "\n",
    "#General\n",
    "import numpy as np\n",
    "import pandas as pd\n",
    "import os\n",
    "import math\n",
    "\n",
    "\n",
    "#Graphics-related\n",
    "import matplotlib\n",
    "import matplotlib.pyplot as plt\n",
    "import matplotlib.animation as animation\n",
    "from IPython.display import HTML\n",
    "import PIL.Image\n",
    "\n",
    "# Internal loading of video libraries.\n",
    "\n",
    "# Use svg backend for figure rendering\n",
    "%config InlineBackend.figure_format = 'svg'\n",
    "\n",
    "# Font sizes\n",
    "SMALL_SIZE = 8\n",
    "MEDIUM_SIZE = 10\n",
    "BIGGER_SIZE = 12\n",
    "plt.rc('font', size=SMALL_SIZE)          # controls default text sizes\n",
    "plt.rc('axes', titlesize=SMALL_SIZE)     # fontsize of the axes title\n",
    "plt.rc('axes', labelsize=MEDIUM_SIZE)    # fontsize of the x and y labels\n",
    "plt.rc('xtick', labelsize=SMALL_SIZE)    # fontsize of the tick labels\n",
    "plt.rc('ytick', labelsize=SMALL_SIZE)    # fontsize of the tick labels\n",
    "plt.rc('legend', fontsize=SMALL_SIZE)    # legend fontsize\n",
    "plt.rc('figure', titlesize=BIGGER_SIZE)  # fontsize of the figure title\n",
    "\n",
    "# Inline video helper function\n",
    "if os.environ.get('COLAB_NOTEBOOK_TEST', False):\n",
    "  # We skip video generation during tests, as it is quite expensive.\n",
    "  display_video = lambda *args, **kwargs: None\n",
    "else:\n",
    "  def display_video(frames, framerate=30):\n",
    "    height, width, _ = frames[0].shape\n",
    "    dpi = 70\n",
    "    orig_backend = matplotlib.get_backend()\n",
    "    matplotlib.use('Agg')  # Switch to headless 'Agg' to inhibit figure rendering.\n",
    "    fig, ax = plt.subplots(1, 1, figsize=(width / dpi, height / dpi), dpi=dpi)\n",
    "    matplotlib.use(orig_backend)  # Switch back to the original backend.\n",
    "    ax.set_axis_off()\n",
    "    ax.set_aspect('equal')\n",
    "    ax.set_position([0, 0, 1, 1])\n",
    "    im = ax.imshow(frames[0])\n",
    "    def update(frame):\n",
    "      im.set_data(frame)\n",
    "      return [im]\n",
    "    interval = 1000/framerate\n",
    "    anim = animation.FuncAnimation(fig=fig, func=update, frames=frames,\n",
    "                                   interval=interval, blit=True, repeat=False)\n",
    "    return HTML(anim.to_html5_video())\n",
    "\n",
    "# Seed numpy's global RNG so that cell outputs are deterministic. We also try to\n",
    "# use RandomState instances that are local to a single cell wherever possible.\n",
    "np.random.seed(42)\n"
   ]
  },
  {
   "attachments": {},
   "cell_type": "markdown",
   "metadata": {},
   "source": [
    "# Simplified model for adhesion: Brick\n",
    "\n",
    "Start Conditions: On ground, Adhesion ON\n",
    "\n",
    "Gravity: Upwards\n",
    "\n",
    "End Condition: Gravity inverted\n"
   ]
  },
  {
   "cell_type": "code",
   "execution_count": 2,
   "metadata": {},
   "outputs": [
    {
     "data": {
      "image/png": "[encoded data removed]",
      "text/plain": [
       "<PIL.Image.Image image mode=RGB size=320x240>"
      ]
     },
     "execution_count": 2,
     "metadata": {},
     "output_type": "execute_result"
    }
   ],
   "source": [
    "block_on_floor = \"\"\"\n",
    "<mujoco model=\"block_on_floor\">\n",
    "  <option integrator=\"Euler\"/>\n",
    "  <option timestep=\"5e-05\" gravity = \"0 0 +9.81\" integrator=\"Euler\" solver=\"Newton\" iterations=\"1000\" tolerance=\"1e-12\" noslip_iterations=\"100\" noslip_tolerance=\"1e-08\" mpr_iterations=\"100\"/>\n",
    "  <compiler boundmass=\"1e-06\" boundinertia=\"1e-06\" angle=\"radian\" eulerseq=\"xyz\" discardvisual=\"true\" convexhull=\"true\" fusestatic=\"true\"/>\n",
    "  <size njmax=\"4096\" nconmax=\"4096\"/>\n",
    "    <visual>\n",
    "    <global offwidth=\"1280\" offheight=\"720\"/>\n",
    "    <quality shadowsize=\"1024\" offsamples=\"4\" numslices=\"28\" numstacks=\"16\" numquads=\"4\"/>\n",
    "    <map stiffness=\"100.0\" stiffnessrot=\"500.0\" force=\"2.0\" torque=\"0.001\" alpha=\"0.3\" fogstart=\"3.0\" fogend=\"10.0\" znear=\"0.1\" zfar=\"3000.0\" haze=\"0.3\" shadowclip=\"1.0\" shadowscale=\"0.3\" actuatortendon=\"2.0\"/>\n",
    "    <scale forcewidth=\"12.0\" contactwidth=\"12.0\" contactheight=\"50.0\" connect=\"1.0\" com=\"1.0\" camera=\"1.0\" light=\"1.0\" selectpoint=\"1.0\" jointlength=\"1.0\" jointwidth=\"1.0\" actuatorlength=\"1.0\" actuatorwidth=\"1.0\" framelength=\"0.01\" framewidth=\"0.01\" constraint=\"0.01\" slidercrank=\"0.01\"/>\n",
    "  </visual>\n",
    "  <statistic meanmass=\"1.0\" meaninertia=\"1.0\" meansize=\"1.0\"/>\n",
    "  <default>\n",
    "    <default class=\"nmf\"/>\n",
    "  </default>\n",
    "  <asset>\n",
    "    <texture name=\"grid\" type=\"2d\" builtin=\"checker\" rgb1=\".1 .2 .3\" \n",
    "     rgb2=\".2 .3 .4\" width=\"300\" height=\"300\"/>\n",
    "    <material name=\"grid\" texture=\"grid\" texrepeat=\"8 8\" reflectance=\".2\"/>\n",
    "  </asset>\n",
    "  <worldbody>\n",
    "    <geom size=\".2 .2 .01\" type=\"plane\" material=\"grid\"/>\n",
    "    <light pos=\"0 0 .6\"/>\n",
    "    <camera name=\"closeup\" pos=\"0 -.1 .07\" xyaxes=\"1 0 0 0 1 2\"/>\n",
    "    <body name=\"top\" pos=\"-7.48e-18  1.21e-16  0.0149\">\n",
    "      <freejoint/>\n",
    "      <geom name=\"box\" type=\"box\" size=\"0.004 .008 0.015\"/>\n",
    "    </body>\n",
    "  </worldbody>\n",
    "  <actuator>\n",
    "    <adhesion name=\"adhere_box_floor\" body=\"top\" ctrlrange=\"0.001 0.003\" gain=\"15\"/> \n",
    "  </actuator> \n",
    "\n",
    "</mujoco>\n",
    "\"\"\"\n",
    "model_block = mjcf.from_xml_string(block_on_floor)\n",
    "physics = mjcf.Physics.from_mjcf_model(model_block)\n",
    "#physics = mujoco.Physics.from_xml_string(block_on_floor)\n",
    "PIL.Image.fromarray(physics.render(camera_id='closeup'))\n",
    "\n",
    "#the block sticks to the floor at 0.002 and flies away at 0.002\n",
    "\n",
    "#gravity is by default implemented as [0.    0.   -9.81], you can check by using: physics.model.opt.gravity"
   ]
  },
  {
   "cell_type": "code",
   "execution_count": 3,
   "metadata": {},
   "outputs": [
    {
     "data": {
      "text/plain": [
       "FieldIndexer(xpos):\n",
       "          x         y         z         \n",
       "0 world [ 0         0         0       ]\n",
       "1   top [-7.48e-18  1.21e-16  0.0149  ]"
      ]
     },
     "execution_count": 3,
     "metadata": {},
     "output_type": "execute_result"
    }
   ],
   "source": [
    "physics.named.data.xpos"
   ]
  },
  {
   "cell_type": "code",
   "execution_count": 4,
   "metadata": {},
   "outputs": [
    {
     "data": {
      "text/plain": [
       "array([0.  , 0.  , 9.81])"
      ]
     },
     "execution_count": 4,
     "metadata": {},
     "output_type": "execute_result"
    }
   ],
   "source": [
    "physics.model.opt.gravity"
   ]
  },
  {
   "cell_type": "code",
   "execution_count": 5,
   "metadata": {},
   "outputs": [],
   "source": [
    "adhesion_actuators = [actuator for actuator in model_block.find_all('actuator')\n",
    "             if actuator.tag == 'adhesion']"
   ]
  },
  {
   "cell_type": "code",
   "execution_count": 6,
   "metadata": {},
   "outputs": [
    {
     "data": {
      "text/plain": [
       "[MJCF Element: <adhesion name=\"adhere_box_floor\" class=\"/\" ctrlrange=\"0.001 0.0030000000000000001\" body=\"top\" gain=\"15\"/>]"
      ]
     },
     "execution_count": 6,
     "metadata": {},
     "output_type": "execute_result"
    }
   ],
   "source": [
    "adhesion_actuators"
   ]
  },
  {
   "cell_type": "code",
   "execution_count": 7,
   "metadata": {},
   "outputs": [],
   "source": [
    "#@title Video of the tippe-top {vertical-output: true}\n",
    "\n",
    "duration = 4    # (seconds)\n",
    "framerate = 60  # (Hz)\n",
    "time_change_adhesion = 2\n",
    "tol = 0.00001\n",
    "\n",
    "# Simulate and display video.\n",
    "frames = []\n",
    "physics.reset()  # Reset to keyframe 0 (load a saved state). -> 0 wont work because I dont save the state\n",
    "while physics.data.time < duration:\n",
    "\n",
    "  for adh_act in adhesion_actuators:\n",
    "    if time_change_adhesion < physics.data.time:\n",
    "      physics.bind(adh_act).ctrl = 0\n",
    "    else: \n",
    "      physics.bind(adh_act).ctrl = 1\n",
    "\n",
    "\n",
    "  physics.step()\n",
    "  if len(frames) < (physics.data.time) * framerate:\n",
    "    pixels = physics.render(camera_id='closeup')\n",
    "    frames.append(pixels)\n",
    "#display_video(frames, framerate)"
   ]
  },
  {
   "cell_type": "code",
   "execution_count": 8,
   "metadata": {},
   "outputs": [
    {
     "data": {
      "text/html": [
       "<video width=\"320\" height=\"240\" controls autoplay>\n",
       "  <source type=\"video/mp4\" src=\"data:video/mp4;base64,AAAAHGZ0eXBNNFYgAAACAGlzb21pc28yYXZjMQAAAAhmcmVlAAAl8G1kYXQAAAKgBgX//5zcRem9\n",
       "5tlIt5Ys2CDZI+7veDI2NCAtIGNvcmUgMTU5IC0gSC4yNjQvTVBFRy00IEFWQyBjb2RlYyAtIENv\n",
       "cHlsZWZ0IDIwMDMtMjAxOSAtIGh0dHA6Ly93d3cudmlkZW9sYW4ub3JnL3gyNjQuaHRtbCAtIG9w\n",
       "dGlvbnM6IGNhYmFjPTEgcmVmPTMgZGVibG9jaz0xOjA6MCBhbmFseXNlPTB4MzoweDExMyBtZT1o\n",
       "ZXggc3VibWU9NyBwc3k9MSBwc3lfcmQ9MS4wMDowLjAwIG1peGVkX3JlZj0xIG1lX3JhbmdlPTE2\n",
       "IGNocm9tYV9tZT0xIHRyZWxsaXM9MSA4eDhkY3Q9MSBjcW09MCBkZWFkem9uZT0yMSwxMSBmYXN0\n",
       "X3Bza2lwPTEgY2hyb21hX3FwX29mZnNldD0tMiB0aHJlYWRzPTcgbG9va2FoZWFkX3RocmVhZHM9\n",
       "MSBzbGljZWRfdGhyZWFkcz0wIG5yPTAgZGVjaW1hdGU9MSBpbnRlcmxhY2VkPTAgYmx1cmF5X2Nv\n",
       "bXBhdD0wIGNvbnN0cmFpbmVkX2ludHJhPTAgYmZyYW1lcz0zIGJfcHlyYW1pZD0yIGJfYWRhcHQ9\n",
       "MSBiX2JpYXM9MCBkaXJlY3Q9MSB3ZWlnaHRiPTEgb3Blbl9nb3A9MCB3ZWlnaHRwPTIga2V5aW50\n",
       "PTI1MCBrZXlpbnRfbWluPTI1IHNjZW5lY3V0PTQwIGludHJhX3JlZnJlc2g9MCByY19sb29rYWhl\n",
       "YWQ9NDAgcmM9Y3JmIG1idHJlZT0xIGNyZj0yMy4wIHFjb21wPTAuNjAgcXBtaW49MCBxcG1heD02\n",
       "OSBxcHN0ZXA9NCBpcF9yYXRpbz0xLjQwIGFxPTE6MS4wMACAAAAHoWWIhAAv//72rvzLK3R+lS4d\n",
       "WXuzUfLoSXL9iDB9aAAMU6ED9e75t3kVAMeAACTiqZg62GQAu9/bY+ZOjsngFhuwM/eMGjpZVb7u\n",
       "Mxrbm//7yefL7WpaMFEvnNAKeO9wqRxQux+KciFf75Rbvuw3GyzUNCp8sN28pFlZcXaMlpa8nZR4\n",
       "yiLFribmV53wXaf9pZdBzZBtCV/bAfZMxlfc9WOvmSwS9TDKUjDnyfKdhAn7x7X4aVOh0gNQYWC3\n",
       "IwxjB+jEYqpWAT3YoVSSMbJI/HWu2ny5Q1twpXOj86zGdKm0lK3VrFwBA+TsbylVijH0vOkEAXPW\n",
       "qhkUDWqO/Lek1G4cnYuaHzi9v9m8By3Fd7UrzKn11XxQU/uHBFnb4uK2Ej/sWF8fD9RVWDnjVw6y\n",
       "fm2nJB2YtqOe0jVqNdBZFj/SWCLmPk5A/jBeEa6mL+E1GMmv+Hvmnj/0MB9c+5FJp6BePka/4Z2y\n",
       "qedUcVsgHX71FD8xww8rahB6fUkk4/DVZU3BdPjZ+281472D2KNz/lW13q1My3FVb9Ht1p0fUsyS\n",
       "qxqXnure7PhA+8eAwLAbV/qBWJr7InkEXqSi9WOo9LV+iydlW4uVOkJkWpA+kAtY4mhvINl+wydd\n",
       "rS7pQz2wn/YYlI27sEr1eSiBaLS54nP3oRUENz5e1TcF88iS+bEr6iaXbQMfkBbMfUdUtyzc0G4O\n",
       "zm2OM7sLqmeS6g2+gHlIQUooSDOsHkNlQuEDqdTSfRHNNR2OMuCU3u++sPiRAG3ZAhJ318A015hv\n",
       "1EV4ra6nQX1NyzQ39kVe3xN6lDdFIewduGbKYLhGPS85j8UZLRgpon0cyLc0ZWL7Uv2vgxNLO2Q4\n",
       "gKaAD9Iv5ssJyBxVJQ3vooAZG6HFmvoqDsrvtuUW+BfalQ077X+sRorpbFVJmL9itXwuD5jpCYAy\n",
       "yNGu8BqvOerzrdQid5aLUxpdgIdvX9q9EcDYP4OGK6m2aNx2CiarLh8wrNOKqwIUVpy41wC+iyDC\n",
       "pVwAk8qi9moaOG+3kYblmRouDUv5XNYZE+bnn6ljvW7goUn+is7Yq7OxH2Kj5+xJOal50BI1ERJc\n",
       "MaMqlGYxE5K28JiN/yIHYlz5NWHG56OHvmo8zyGOYzlyrUvrmQsMBmQS8NOYA58/JY1OYjK9Fj+P\n",
       "U4GOmxxI/DPKikbrsxJr9e4gXFNIQbp3w2azsmoTMALG2tnJPHuBRnCjVjoEHeHI/WKPmpvzkYgB\n",
       "Iy1x/6+t9TmjzaqRCiaJqGiUO/RTxJqzXdCIJiizXXT7Dlt/JwPbO7EJMi/S1mPPXfRqtkBC9SJj\n",
       "jJl5d9RkpUOY//4/om8T+ITUrCJfZh6cXJRYZ3ZNpdUuupH360Nr393VS8g69lVQd6+DjYy/DG28\n",
       "vuEbC2jwOztIIRoai+T1lp7L2WmosDcvqXqvZvSIXTV9PN1MFoXewMsNMXX0DeaGvqtxOZrdzheu\n",
       "jq+ZOQSrCLmGvRg9a56QiIH8efdZHNyBwOyINkAS2ipjNIfaCeV16bINFMbJCr7TmWuGmM/fvXOa\n",
       "JU9iNwtKRHDr1cOkvmYzROrJeO94LA5GGlcd8M+NZFq+s+J4ed00oMe9+mNnIROqbB+DY02Jo+lp\n",
       "dOWs/xdFdYA/8UUZwWJN0t7oy1BQzsvope+gn66XG5sBxDFFcZtOE1fawuMuaM/kMmxzjvMqjUpT\n",
       "wZuHdWZRVcLq2xC515YsuForYsY85gr9kNsNdjdonbsEpDv7zHSDrM7JOE8V5HzlzPMEphf73ja0\n",
       "tZZsxhzack9JQrs0CjxB6HCWP6B6tY9wxNHMWBzhhYHxibjmd+NMJCkQerwtluZjR88QB/oFGsH7\n",
       "vqTH1HXQCwiHB4Oi7Qsq138wR56P7MVpuahamIC07nFGKkDTCHRnG57YU3NFvmZNf80RFrbHJlYf\n",
       "KEqRSoaSeol6dcGhcglKQGPStnm4Yt44psQVTMU5u6l+CJ8ILxW9EHzQ1PsIbRb6Yale+pepY2qm\n",
       "1NkEqqvmxnzdMk/qFO4YKbv2HmDtGz+rNl0Jr5PB7GkFmBhQsA7f7jCUpr7v3Nf59VC/RnkreMYI\n",
       "zWfpUJY5ELRXckQeOaHd8448KwC996fcVKRmHw2TPUOErpZSPFNrMUaOzsIPSeKEUCd/6CNkG/2m\n",
       "Sel4wu7+XcrZtpMKXdNAVNZJkt4fqO4A02kTuyLyOH1dnz//JBHoTF9nkBAdzPlsToI7VHZG6l6v\n",
       "J2A/WFY7grlQ1+GsXmpgwQlBSk/gSJpPL80PKiupaITp2fUO6wdLAI6d53pSvkQPGUkAuZaZYxUF\n",
       "legEFeq+BTVJfoMcI//bunnEQ3pyLyGywOmfXlF4YH1SaOIswnuViMYcvDuehaQwtj0FqbIxtGWd\n",
       "2SsMKL0j4WqEeeUcaaImmNS2qqVdWHO+UlLKE+JO37G6fiaXGXu/qN8oDZpi3/nPJHIEIVeD/Yme\n",
       "oJDQU1FLDNXqvU/c+aRwgS4ySDOC8gaL7K0qd7aRzuaWJivEFljWlEpGC+smcm8CqDwDsS2SsSuJ\n",
       "rOrYYsh6eEO7VN8IPmPNHKEygPMW8NmSIrNUf1QjyuOy5icJ3/6hPSm3yT62Vl6hRuoNx9sNOQAA\n",
       "AGVBmiRsQv/+jLAQDn9kGp1qzquYC4nO+jnYIKjGrpTt5TzW5w1D2WfUQKiCa2pIqdmWtORIRc/p\n",
       "bmtvD4mBilp1sRK+biAzR9nKIQMN1+c0ck0Wibkxl9JvAghUvgMzbx64z/xCkAAAAB5BnkJ4hH8C\n",
       "3vKuyLelg33Ow2KGPHfN4e13Nt3bEXkAAAATAZ5hdEf/BJGMDN862yhS2vR17QAAAA8BnmNqR/8E\n",
       "k+Y8T6aMGDMAAAA6QZpoSahBaJlMCF///oywEA5/ZBqc38M7C/x/QAJ3tnghNSEJipbktgdUVv0v\n",
       "hv0X5TliaemjdLMZ7wAAABZBnoZFESwj/wLmru2f7geiyYgWlthRAAAADQGepXRH/wSRjAze2YUA\n",
       "AAAJAZ6nakf/AAG9AAAAFkGarEmoQWyZTAhf//6MsAAZR0kvOqcAAAARQZ7KRRUsI/8A8sRaGfNb\n",
       "aYEAAAAJAZ7pdEf/AAG9AAAACQGe62pH/wABvQAAABJBmvBJqEFsmUwIX//+jLAAA2sAAAARQZ8O\n",
       "RRUsI/8A8sRaGfNbaYEAAAAJAZ8tdEf/AAG9AAAACQGfL2pH/wABvQAAABJBmzRJqEFsmUwIX//+\n",
       "jLAAA2oAAAARQZ9SRRUsI/8A8sRaGfNbaYEAAAAJAZ9xdEf/AAG9AAAACQGfc2pH/wABvQAAABJB\n",
       "m3hJqEFsmUwIX//+jLAAA2sAAAARQZ+WRRUsI/8A8sRaGfNbaYAAAAAJAZ+1dEf/AAG9AAAACQGf\n",
       "t2pH/wABvQAAABJBm7xJqEFsmUwIX//+jLAAA2oAAAARQZ/aRRUsI/8A8sRaGfNbaYEAAAAJAZ/5\n",
       "dEf/AAG9AAAACQGf+2pH/wABvQAAABJBm+BJqEFsmUwIX//+jLAAA2sAAAARQZ4eRRUsI/8A8sRa\n",
       "GfNbaYAAAAAJAZ49dEf/AAG9AAAACQGeP2pH/wABvQAAABJBmiRJqEFsmUwIX//+jLAAA2oAAAAR\n",
       "QZ5CRRUsI/8A8sRaGfNbaYEAAAAJAZ5hdEf/AAG9AAAACQGeY2pH/wABvQAAABJBmmhJqEFsmUwI\n",
       "X//+jLAAA2sAAAARQZ6GRRUsI/8A8sRaGfNbaYEAAAAJAZ6ldEf/AAG9AAAACQGep2pH/wABvQAA\n",
       "ABJBmqxJqEFsmUwIX//+jLAAA2oAAAARQZ7KRRUsI/8A8sRaGfNbaYEAAAAJAZ7pdEf/AAG9AAAA\n",
       "CQGe62pH/wABvQAAABJBmvBJqEFsmUwIX//+jLAAA2sAAAARQZ8ORRUsI/8A8sRaGfNbaYEAAAAJ\n",
       "AZ8tdEf/AAG9AAAACQGfL2pH/wABvQAAABJBmzRJqEFsmUwIX//+jLAAA2oAAAARQZ9SRRUsI/8A\n",
       "8sRaGfNbaYEAAAAJAZ9xdEf/AAG9AAAACQGfc2pH/wABvQAAABJBm3hJqEFsmUwIX//+jLAAA2sA\n",
       "AAARQZ+WRRUsI/8A8sRaGfNbaYAAAAAJAZ+1dEf/AAG9AAAACQGft2pH/wABvQAAABJBm7xJqEFs\n",
       "mUwIX//+jLAAA2oAAAARQZ/aRRUsI/8A8sRaGfNbaYEAAAAJAZ/5dEf/AAG9AAAACQGf+2pH/wAB\n",
       "vQAAABJBm+BJqEFsmUwIX//+jLAAA2sAAAARQZ4eRRUsI/8A8sRaGfNbaYAAAAAJAZ49dEf/AAG9\n",
       "AAAACQGeP2pH/wABvQAAABJBmiRJqEFsmUwIX//+jLAAA2oAAAARQZ5CRRUsI/8A8sRaGfNbaYEA\n",
       "AAAJAZ5hdEf/AAG9AAAACQGeY2pH/wABvQAAABJBmmhJqEFsmUwIX//+jLAAA2sAAAARQZ6GRRUs\n",
       "I/8A8sRaGfNbaYEAAAAJAZ6ldEf/AAG9AAAACQGep2pH/wABvQAAABJBmqxJqEFsmUwIX//+jLAA\n",
       "A2oAAAARQZ7KRRUsI/8A8sRaGfNbaYEAAAAJAZ7pdEf/AAG9AAAACQGe62pH/wABvQAAABJBmvBJ\n",
       "qEFsmUwIX//+jLAAA2sAAAARQZ8ORRUsI/8A8sRaGfNbaYEAAAAJAZ8tdEf/AAG9AAAACQGfL2pH\n",
       "/wABvQAAABJBmzRJqEFsmUwIX//+jLAAA2oAAAARQZ9SRRUsI/8A8sRaGfNbaYEAAAAJAZ9xdEf/\n",
       "AAG9AAAACQGfc2pH/wABvQAAABJBm3hJqEFsmUwIX//+jLAAA2sAAAARQZ+WRRUsI/8A8sRaGfNb\n",
       "aYAAAAAJAZ+1dEf/AAG9AAAACQGft2pH/wABvQAAABJBm7xJqEFsmUwIX//+jLAAA2oAAAARQZ/a\n",
       "RRUsI/8A8sRaGfNbaYEAAAAJAZ/5dEf/AAG9AAAACQGf+2pH/wABvQAAABdBm+BJqEFsmUwIX//+\n",
       "jLAAGUdUx/ZJjQAAABFBnh5FFSwj/wDyxFoZ81tpgAAAAAkBnj10R/8AAb0AAAAJAZ4/akf/AAG9\n",
       "AAAAIUGaJEmoQWyZTAhf//6MsAEBX8ZQqRHdvtTZpquwF66mUAAAABJBnkJFFSwj/wDyxFoZ89XQ\n",
       "CSUAAAAMAZ5hdEf/AIKxElSAAAAACQGeY2pH/wABvQAAABJBmmhJqEFsmUwIX//+jLAAA2sAAAAR\n",
       "QZ6GRRUsI/8A8sRaGfNbaYEAAAAJAZ6ldEf/AAG9AAAACQGep2pH/wABvQAAAB5BmqxJqEFsmUwI\n",
       "X//+jLABtLRRFA84Q8tVMz04F4AAAAARQZ7KRRUsI/8A8sRaGfNbaYEAAAAJAZ7pdEf/AAG9AAAA\n",
       "CQGe62pH/wABvQAAADtBmvBJqEFsmUwIX//+jLABtMP/hioBblS1ASUncU3UkGT3HjEGIBRAvgci\n",
       "UeCbX6I+UIruaZjTOfAcFwAAABFBnw5FFSwj/wDyxFoZ81tpgQAAAAkBny10R/8AAb0AAAAJAZ8v\n",
       "akf/AAG9AAAAIEGbNEmoQWyZTAhf//6MsADFOqCTHpy0DF1T/5n5uf18AAAAEUGfUkUVLCP/APLE\n",
       "WhnzW2mBAAAACQGfcXRH/wABvQAAAAkBn3NqR/8AAb0AAAAiQZt4SahBbJlMCFf//jhABpxd1XMW\n",
       "yB2NVc+5RHFy4h8ZkwAAABFBn5ZFFSwj/wDyxFoZ81tpgAAAAAkBn7V0R/8AAb0AAAAJAZ+3akf/\n",
       "AAG9AAAAt0GbukmoQWyZTBRML//+jLADAPYQgAvrfLI291/80auUgdg+8KqdS/mIwBqlalYRZaAr\n",
       "v+6E89tvLJ/QtmMefzt1JZIaxFr/A3jM0tlzj3VouhJia/iesk84fqYzS7DXJiMM+dndYLiVatQC\n",
       "PfRIjPLXZDPxhJJJDJHEIKa8PpBBpZP5aubTY8+0mQIPdWnVpO8AX3AH+PpNy0EcAzXmkQJHQlnB\n",
       "akP5JzRcQO3npB9zHdg/f/2z6AAAAEIBn9lqR/8BiPHKhxEc1oACzvzWubxmAjcuFBQz9Mq8Z8W4\n",
       "XVrbMZNHixj96I3CosB4M30h9+dyC5J4DdxUlh1Y/50AAAEuQZvdSeEKUmUwIX/+lBqAlpmgA2uk\n",
       "Bn3R4Bd/8XZW/9T2R4WFuw/XhbeE2l1cnPzgvL/q6E8F4zxjJ9X+AkrVhG2o+xhSgkMhorXuhOpy\n",
       "qLB0uOn177jRtbJ9H+ecVD8fT9zB4MrkplsXjKgEwn+3cC9LN+c8GbwsIkRj0DJ3GigAJRRYN3AB\n",
       "oFduCJh2OgrD4YOhUUNu4TjixF3vBVoZQ8IkxNFJa+Ko5wscMPTQJHnrfDSp4qV1c5SsVLSJMbLP\n",
       "xHFWT74pU+z9/b8eEg3fZ/CL4wvRISe4Vkz4ygVJ1Kg7R3Iit0o3q6KLT1n+bmb5o9iXyCc3teY9\n",
       "IFjqf+eDG4a/oFthCp9h53b6EW/gFR6bS4g87rPF521tnw3eEJAuGeTjtZKZ6Wx0b73+RsAAAAB9\n",
       "QZ/7RTRMfzBFJ9WWPBCn89qwoTgAFuisSHsaog7iiFN45FVdFX8scrFbnplSqD43Tyw3WDq40nUs\n",
       "ouJSLnYfT1Q85GEesyBSdy1JS2PFx3nkHAFu5zQSdqrIi7McyyYjiJzjOpwD6DvWkl09hgEoPS1V\n",
       "RXZEo8TZyW2XkWsAAABPAZ4cakf/MIMKkeWHe2CNBpvXAB+H4QG2cXWuotjnptdtGVKUdPmVOfA7\n",
       "6bkZCy4lPNCcI+BbNQs6E4QKPxFTn4dR+aKjAe+omkYgshaGwQAAAINBmgFJqEFomUwIV//+TjMY\n",
       "EckPbiagfZJ6nmimjVNybjpX9CTSmgnAJk7IHQLLOfRv0OU7b4v4KeCesi/57klM23BWfNpVNvFz\n",
       "zmj2F7KcgVZcu36lHkndjtQglF0lE0UQcsL89RT5IlNTPTwYXohFSlNcuv8fEKbagg7m3/3yP6DW\n",
       "eAAAACdBnj9FESwj/ycZ0V24eapLLOxRIh/cIEcUlIwG3F8dAUffr8NWSoAAAAA8AZ5edEf/N9XY\n",
       "rLVZCzUwCZ7SxADbzWYB2mvHyaEqNGicDHxCLhl6N+mmo/THT1W4xeU9LCx/ZZpLiZKxAAAAFAGe\n",
       "QGpH/wAdmBZAYi7zDv5G/BH7AAAAa0GaRUmoQWyZTAhX//44QAO3ukNf7sDQrOyW2GP9xdW4K/zf\n",
       "V2rEZbeHrzzacWWSrQCP4Ix4lE8C2DqNytQ0N2wdB1R+qPV9I1vpX6pdPfG+NykpC15CrhCbFuDc\n",
       "Ucy3yX6ADpTpkWX60bzbAAAAKkGeY0UVLCP/AJKZl0+dtcd5rtn6mPTDOfsb2vcVjlcfSSxldnF1\n",
       "rS384AAAABoBnoJ0R/8AHVZkFpZ1qdJuB3I794lOgAD5wQAAACkBnoRqR/8AHmfciMvGASebA5Dr\n",
       "YA9PfhTihD0eYBj0CtbZSnJxA8GMvwAAAG1BmodJqEFsmUwUTCv//jhAA7LPhpZz9TDBcBx8A64T\n",
       "MALZ5Fd77W5TkqlGY1BTRJW75/EatCMHeTwo9W7CagUR2US2fUyoD9FUwLAWDU73KAijaVq7YCJL\n",
       "MNdksu3cr9jg/H+gQtloky31PlOBAAAALwGepmpH/wDnl574VajVLydCb0zYyYFshupYLygzW37l\n",
       "T7k77nZiqu9DYqkUJoHhAAAAV0GaqEnhClJlMCFf/jhAEkD6EFUeDkNVN7z4SkRxpAqMtq9RH8we\n",
       "thY+MmcIHasjNv0rTWkC/ZKoqD1bVdZVr5zKe53JacDINQI2TVGOHCm1pOxE/HERqgAAAK1BmslJ\n",
       "4Q6JlMCF//6MsAHHMzNhvZ/Zqo8BNefvqP9EgAbULgYP/c+pomjL018bQWiysahcioHS+1GtkzYB\n",
       "1RI6z4WdWdDbRyqKeRv735cjLrpMl4Qv7uXZHi/H8Yx1ieDLen/TMv8TtVw6gllQyC5mWUKLeMZR\n",
       "KYFMnWTPfIOqDxoYPRyR4mBECxAX14rj7vGqFUwuXFOEHEUnwqY1rD3N3f9PWSsEviH1LWR8EAAA\n",
       "AdpBmutJ4Q8mUwURPC///oywASnXb/B6z6AC4ulQWHcmKaSmACBA0k34VhPdzUcbyqUhxgGXPVLH\n",
       "rb9jXtVlH6f1FUPIPLDkoePJo31Nx/gjOMES0KaUZyiINkDI8ApbJKj3LLyqMXbF4QJn+DqTCC8f\n",
       "UVc5KxXdDDcM35zJTY9HhpR686AL228dtzDaOtxkKbA32yD2XHlyakegl9jjeB9X4u99TXX6OHL6\n",
       "UpPD5Vwf77SGo1tR7kFSisUrE679zbaQkqj4bblO2hSOlblZN7xqA2MhBRYem8ZQ7bx8qj11ZQ7Y\n",
       "j4jpU2TaAXQINRiR6oshA5YFixb1YUHNdbrrSwLPkldch21M5VbIodif/2Cw5b1HenRbxaXn/Rl1\n",
       "CM4iRm4wRDTtPJ1Suagz543xwpwX06ziLNY2zSwge3fwia3JrdoVmwd9fWwRES/h+Rc0eGk1B0ru\n",
       "Iy+wYxKRUD6bEGSAXbSOOntXLcjHNvnxcsBCFOpfP8L0teaw+GoJheje17DSIwHCrCeFaG20IBz8\n",
       "LWBI4RkN3wnf7olQ/mpFfXCGy+eQwDl7RLT34qRqO2xQ7x9ZPD1tTneuSKjbYHQLOSTdm6Lqjrcv\n",
       "j1iWAOohPANC/21bafzteAbECskAAACwAZ8Kakf/ALFCmAGeNki8Fcw4ZzjSQUoGxYEAFWJfBesG\n",
       "Wm1kGIOtuJ/2aR3cnYtlqMLe2EDxI4qHNxm4ibCP6wONiBbB7BWZC/gJ7FwMZ/gtbv5ju3kvli3t\n",
       "3RBCTnIvJPJlQTEv9lJL64LzhxzgUCPjRrA/18RJf9zEqgSFKcuaFrxkhL8+YjFXqfL0WRLjro2l\n",
       "pXHgKiqJqo8GbaWVt8X7kyM8fF/6F0SK1rqagsAAAADPQZsPSeEPJlMCF//+jLABKEawFZQj4b+N\n",
       "GU+HHKbm1XJdqLxaCqnO24r8uJwPvJhsQDtdoZwW//1GmutY51qb+8KuZ9vT+P8gvNlpi7FmnslH\n",
       "c3KYr2EB88q8vsEQThPHdoS8b4djSqQm1oQHsnqckqG8Hls+SV+jpwVDmdrGGg/w2vAVsX5gzEoN\n",
       "kIKgGp/dXAMydknA6L/ASiqi1WSlXoQcl8Rc6oZsTzPbTUtSOb15SfLX/N/7C4pics40wYekAZCW\n",
       "kQI6TuW/ztwcA4vMAAAAJUGfLUURPCP/AG6WW2Zg1WDxGVSmAuArBt9LgqSwQheTz5b8K+EAAAHP\n",
       "AZ9MdEf/AcbKYgAJ1A3H3r8h/7b//UMn4++JNG98YKHDpGQ1K1ijtX0ZnZ44UuPH369JdCojghyT\n",
       "fpFKtbEEnnoxU+Xd9q+TO454KxjfVt6fPdEnno3iuojkEnjHcqyblW3EF3y/onp2If1JpEUr0PCb\n",
       "WAosTtT+0l1uvIozYzKkik4yRb0DTsr9/OS73QxDoJEVWecrynlBq4WUfbqa/2fR9HjsiD3Zz7GV\n",
       "HjyZ2t3hhxL+TWFn6SORk92gIx1YUQmCss9hndx6++6NDCxxJ8KEjW0gVCyL9HURxVXTpoPo/Ppb\n",
       "chhEDUuGzRy/30iUVMDVH3DlFpKDvtLKyS3qa+LiotlGi4Hiht9hYQVzeK04/OAcgEZv6MsC6vPh\n",
       "mmObPld9pdU0ivWxeO/hYpAeE8Sp79/CqHt7xpFTZ2S0H23teDg2/6ntjwMXw7XOoCUKP8I5Ocg1\n",
       "Q4OJHpopMhu/w8nsXmnVfMtCiJkVHgCwD86R5ZkZetorhSTMuzkCKMH6/E7Vz5WY31bVGR2TJVmT\n",
       "zuMDY6KROSo+fqWGy+oS418hTRc27/cwXaKQcL6DuVjpvip2ObvimUXkJxjhB9/ZFi2z556cdGaS\n",
       "pZEuii8jMQAAAAkBn05qR/8AAb0AAAAmQZtTSahBaJlMCF///oywAGAdUEFICHy/M6SLLiyKfAfo\n",
       "2C17ttAAAAAOQZ9xRREsI/8AbpZZJIIAAAAJAZ+QdEf/AAG9AAAACQGfkmpH/wABvQAAABZBm5dJ\n",
       "qEFsmUwIX//+jLAAGUdJLzqnAAAADkGftUUVLCP/AG6WWSSDAAAACQGf1HRH/wABvQAAAAkBn9Zq\n",
       "R/8AAb0AAAASQZvbSahBbJlMCF///oywAANrAAAADkGf+UUVLCP/AG6WWSSCAAAACQGeGHRH/wAB\n",
       "vQAAAAkBnhpqR/8AAb0AAAASQZofSahBbJlMCF///oywAANrAAAADkGePUUVLCP/AG6WWSSDAAAA\n",
       "CQGeXHRH/wABvQAAAAkBnl5qR/8AAb0AAAASQZpDSahBbJlMCF///oywAANrAAAADkGeYUUVLCP/\n",
       "AG6WWSSCAAAACQGegHRH/wABvQAAAAkBnoJqR/8AAb0AAAASQZqHSahBbJlMCF///oywAANrAAAA\n",
       "DkGepUUVLCP/AG6WWSSDAAAACQGexHRH/wABvQAAAAkBnsZqR/8AAb0AAAASQZrLSahBbJlMCF//\n",
       "/oywAANqAAAADkGe6UUVLCP/AG6WWSSCAAAACQGfCHRH/wABvQAAAAkBnwpqR/8AAb0AAAASQZsP\n",
       "SahBbJlMCF///oywAANqAAAADkGfLUUVLCP/AG6WWSSDAAAACQGfTHRH/wABvQAAAAkBn05qR/8A\n",
       "Ab0AAAASQZtTSahBbJlMCF///oywAANqAAAADkGfcUUVLCP/AG6WWSSCAAAACQGfkHRH/wABvQAA\n",
       "AAkBn5JqR/8AAb0AAAASQZuXSahBbJlMCF///oywAANqAAAADkGftUUVLCP/AG6WWSSDAAAACQGf\n",
       "1HRH/wABvQAAAAkBn9ZqR/8AAb0AAAASQZvbSahBbJlMCF///oywAANrAAAADkGf+UUVLCP/AG6W\n",
       "WSSCAAAACQGeGHRH/wABvQAAAAkBnhpqR/8AAb0AAAASQZofSahBbJlMCF///oywAANrAAAADkGe\n",
       "PUUVLCP/AG6WWSSDAAAACQGeXHRH/wABvQAAAAkBnl5qR/8AAb0AAAASQZpDSahBbJlMCF///oyw\n",
       "AANrAAAADkGeYUUVLCP/AG6WWSSCAAAACQGegHRH/wABvQAAAAkBnoJqR/8AAb0AAAASQZqHSahB\n",
       "bJlMCF///oywAANrAAAADkGepUUVLCP/AG6WWSSDAAAACQGexHRH/wABvQAAAAkBnsZqR/8AAb0A\n",
       "AAASQZrLSahBbJlMCF///oywAANqAAAADkGe6UUVLCP/AG6WWSSCAAAACQGfCHRH/wABvQAAAAkB\n",
       "nwpqR/8AAb0AAAAXQZsPSahBbJlMCF///oywABlHVMf2SYwAAAAOQZ8tRRUsI/8AbpZZJIMAAAAJ\n",
       "AZ9MdEf/AAG9AAAACQGfTmpH/wABvQAAABJBm1NJqEFsmUwIX//+jLAAA2oAAAAOQZ9xRRUsI/8A\n",
       "bpZZJIIAAAAJAZ+QdEf/AAG9AAAACQGfkmpH/wABvQAAABJBm5dJqEFsmUwIX//+jLAAA2oAAAAO\n",
       "QZ+1RRUsI/8AbpZZJIMAAAAJAZ/UdEf/AAG9AAAACQGf1mpH/wABvQAAABJBm9tJqEFsmUwIX//+\n",
       "jLAAA2sAAAAOQZ/5RRUsI/8AbpZZJIIAAAAJAZ4YdEf/AAG9AAAACQGeGmpH/wABvQAAABJBmh9J\n",
       "qEFsmUwIX//+jLAAA2sAAAAOQZ49RRUsI/8AbpZZJIMAAAAJAZ5cdEf/AAG9AAAACQGeXmpH/wAB\n",
       "vQAAABJBmkNJqEFsmUwIX//+jLAAA2sAAAAOQZ5hRRUsI/8AbpZZJIIAAAAJAZ6AdEf/AAG9AAAA\n",
       "CQGegmpH/wABvQAAABJBmodJqEFsmUwIV//+OEAADUkAAAAOQZ6lRRUsI/8AbpZZJIMAAAAJAZ7E\n",
       "dEf/AAG9AAAACQGexmpH/wABvQAAABJBmstJqEFsmUwIV//+OEAADUgAAAAOQZ7pRRUsI/8AbpZZ\n",
       "JIIAAAAJAZ8IdEf/AAG9AAAACQGfCmpH/wABvQAAABJBmw9JqEFsmUwIR//94QAAM+AAAAAOQZ8t\n",
       "RRUsI/8AbpZZJIMAAAAJAZ9MdEf/AAG9AAAACQGfTmpH/wABvQAAABFBm1BJqEFsmUwI//yEAADK\n",
       "gAAADmltb292AAAAbG12aGQAAAAAAAAAAAAAAAAAAAPoAAAPsQABAAABAAAAAAAAAAAAAAAAAQAA\n",
       "AAAAAAAAAAAAAAAAAAEAAAAAAAAAAAAAAAAAAEAAAAAAAAAAAAAAAAAAAAAAAAAAAAAAAAAAAAAA\n",
       "AAACAAANk3RyYWsAAABcdGtoZAAAAAMAAAAAAAAAAAAAAAEAAAAAAAAPsQAAAAAAAAAAAAAAAAAA\n",
       "AAAAAQAAAAAAAAAAAAAAAAAAAAEAAAAAAAAAAAAAAAAAAEAAAAABQAAAAPAAAAAAACRlZHRzAAAA\n",
       "HGVsc3QAAAAAAAAAAQAAD7EAAAIAAAEAAAAADQttZGlhAAAAIG1kaGQAAAAAAAAAAAAAAAAAADwA\n",
       "AADxAFXEAAAAAAAtaGRscgAAAAAAAAAAdmlkZQAAAAAAAAAAAAAAAFZpZGVvSGFuZGxlcgAAAAy2\n",
       "bWluZgAAABR2bWhkAAAAAQAAAAAAAAAAAAAAJGRpbmYAAAAcZHJlZgAAAAAAAAABAAAADHVybCAA\n",
       "AAABAAAMdnN0YmwAAACyc3RzZAAAAAAAAAABAAAAomF2YzEAAAAAAAAAAQAAAAAAAAAAAAAAAAAA\n",
       "AAABQADwAEgAAABIAAAAAAAAAAEAAAAAAAAAAAAAAAAAAAAAAAAAAAAAAAAAAAAAAAAAAAAY//8A\n",
       "AAAwYXZjQwFkABX/4QAXZ2QAFazZQUH6EAAAAwAQAAAHgPFi2WABAAZo6+PLIsAAAAAcdXVpZGto\n",
       "QPJfJE/FujmlG88DI/MAAAAAAAAAGHN0dHMAAAAAAAAAAQAAAPEAAAEAAAAAFHN0c3MAAAAAAAAA\n",
       "AQAAAAEAAAeIY3R0cwAAAAAAAADvAAAAAQAAAgAAAAABAAAFAAAAAAEAAAIAAAAAAQAAAAAAAAAB\n",
       "AAABAAAAAAEAAAUAAAAAAQAAAgAAAAABAAAAAAAAAAEAAAEAAAAAAQAABQAAAAABAAACAAAAAAEA\n",
       "AAAAAAAAAQAAAQAAAAABAAAFAAAAAAEAAAIAAAAAAQAAAAAAAAABAAABAAAAAAEAAAUAAAAAAQAA\n",
       "AgAAAAABAAAAAAAAAAEAAAEAAAAAAQAABQAAAAABAAACAAAAAAEAAAAAAAAAAQAAAQAAAAABAAAF\n",
       "AAAAAAEAAAIAAAAAAQAAAAAAAAABAAABAAAAAAEAAAUAAAAAAQAAAgAAAAABAAAAAAAAAAEAAAEA\n",
       "AAAAAQAABQAAAAABAAACAAAAAAEAAAAAAAAAAQAAAQAAAAABAAAFAAAAAAEAAAIAAAAAAQAAAAAA\n",
       "AAABAAABAAAAAAEAAAUAAAAAAQAAAgAAAAABAAAAAAAAAAEAAAEAAAAAAQAABQAAAAABAAACAAAA\n",
       "AAEAAAAAAAAAAQAAAQAAAAABAAAFAAAAAAEAAAIAAAAAAQAAAAAAAAABAAABAAAAAAEAAAUAAAAA\n",
       "AQAAAgAAAAABAAAAAAAAAAEAAAEAAAAAAQAABQAAAAABAAACAAAAAAEAAAAAAAAAAQAAAQAAAAAB\n",
       "AAAFAAAAAAEAAAIAAAAAAQAAAAAAAAABAAABAAAAAAEAAAUAAAAAAQAAAgAAAAABAAAAAAAAAAEA\n",
       "AAEAAAAAAQAABQAAAAABAAACAAAAAAEAAAAAAAAAAQAAAQAAAAABAAAFAAAAAAEAAAIAAAAAAQAA\n",
       "AAAAAAABAAABAAAAAAEAAAUAAAAAAQAAAgAAAAABAAAAAAAAAAEAAAEAAAAAAQAABQAAAAABAAAC\n",
       "AAAAAAEAAAAAAAAAAQAAAQAAAAABAAAFAAAAAAEAAAIAAAAAAQAAAAAAAAABAAABAAAAAAEAAAUA\n",
       "AAAAAQAAAgAAAAABAAAAAAAAAAEAAAEAAAAAAQAABQAAAAABAAACAAAAAAEAAAAAAAAAAQAAAQAA\n",
       "AAABAAAFAAAAAAEAAAIAAAAAAQAAAAAAAAABAAABAAAAAAEAAAUAAAAAAQAAAgAAAAABAAAAAAAA\n",
       "AAEAAAEAAAAAAQAABQAAAAABAAACAAAAAAEAAAAAAAAAAQAAAQAAAAABAAAFAAAAAAEAAAIAAAAA\n",
       "AQAAAAAAAAABAAABAAAAAAEAAAUAAAAAAQAAAgAAAAABAAAAAAAAAAEAAAEAAAAAAQAABQAAAAAB\n",
       "AAACAAAAAAEAAAAAAAAAAQAAAQAAAAABAAADAAAAAAEAAAEAAAAAAQAABAAAAAACAAABAAAAAAEA\n",
       "AAUAAAAAAQAAAgAAAAABAAAAAAAAAAEAAAEAAAAAAQAABQAAAAABAAACAAAAAAEAAAAAAAAAAQAA\n",
       "AQAAAAABAAADAAAAAAEAAAEAAAAAAgAAAgAAAAABAAADAAAAAAEAAAEAAAAAAQAABQAAAAABAAAC\n",
       "AAAAAAEAAAAAAAAAAQAAAQAAAAABAAAFAAAAAAEAAAIAAAAAAQAAAAAAAAABAAABAAAAAAEAAAUA\n",
       "AAAAAQAAAgAAAAABAAAAAAAAAAEAAAEAAAAAAQAABQAAAAABAAACAAAAAAEAAAAAAAAAAQAAAQAA\n",
       "AAABAAAFAAAAAAEAAAIAAAAAAQAAAAAAAAABAAABAAAAAAEAAAUAAAAAAQAAAgAAAAABAAAAAAAA\n",
       "AAEAAAEAAAAAAQAABQAAAAABAAACAAAAAAEAAAAAAAAAAQAAAQAAAAABAAAFAAAAAAEAAAIAAAAA\n",
       "AQAAAAAAAAABAAABAAAAAAEAAAUAAAAAAQAAAgAAAAABAAAAAAAAAAEAAAEAAAAAAQAABQAAAAAB\n",
       "AAACAAAAAAEAAAAAAAAAAQAAAQAAAAABAAAFAAAAAAEAAAIAAAAAAQAAAAAAAAABAAABAAAAAAEA\n",
       "AAUAAAAAAQAAAgAAAAABAAAAAAAAAAEAAAEAAAAAAQAABQAAAAABAAACAAAAAAEAAAAAAAAAAQAA\n",
       "AQAAAAABAAAFAAAAAAEAAAIAAAAAAQAAAAAAAAABAAABAAAAAAEAAAUAAAAAAQAAAgAAAAABAAAA\n",
       "AAAAAAEAAAEAAAAAAQAABQAAAAABAAACAAAAAAEAAAAAAAAAAQAAAQAAAAABAAAFAAAAAAEAAAIA\n",
       "AAAAAQAAAAAAAAABAAABAAAAAAEAAAUAAAAAAQAAAgAAAAABAAAAAAAAAAEAAAEAAAAAAQAABQAA\n",
       "AAABAAACAAAAAAEAAAAAAAAAAQAAAQAAAAABAAAFAAAAAAEAAAIAAAAAAQAAAAAAAAABAAABAAAA\n",
       "AAEAAAUAAAAAAQAAAgAAAAABAAAAAAAAAAEAAAEAAAAAAQAABQAAAAABAAACAAAAAAEAAAAAAAAA\n",
       "AQAAAQAAAAABAAAFAAAAAAEAAAIAAAAAAQAAAAAAAAABAAABAAAAAAEAAAUAAAAAAQAAAgAAAAAB\n",
       "AAAAAAAAAAEAAAEAAAAAAQAABQAAAAABAAACAAAAAAEAAAAAAAAAAQAAAQAAAAABAAACAAAAABxz\n",
       "dHNjAAAAAAAAAAEAAAABAAAA8QAAAAEAAAPYc3RzegAAAAAAAAAAAAAA8QAACkkAAABpAAAAIgAA\n",
       "ABcAAAATAAAAPgAAABoAAAARAAAADQAAABoAAAAVAAAADQAAAA0AAAAWAAAAFQAAAA0AAAANAAAA\n",
       "FgAAABUAAAANAAAADQAAABYAAAAVAAAADQAAAA0AAAAWAAAAFQAAAA0AAAANAAAAFgAAABUAAAAN\n",
       "AAAADQAAABYAAAAVAAAADQAAAA0AAAAWAAAAFQAAAA0AAAANAAAAFgAAABUAAAANAAAADQAAABYA\n",
       "AAAVAAAADQAAAA0AAAAWAAAAFQAAAA0AAAANAAAAFgAAABUAAAANAAAADQAAABYAAAAVAAAADQAA\n",
       "AA0AAAAWAAAAFQAAAA0AAAANAAAAFgAAABUAAAANAAAADQAAABYAAAAVAAAADQAAAA0AAAAWAAAA\n",
       "FQAAAA0AAAANAAAAFgAAABUAAAANAAAADQAAABYAAAAVAAAADQAAAA0AAAAWAAAAFQAAAA0AAAAN\n",
       "AAAAFgAAABUAAAANAAAADQAAABsAAAAVAAAADQAAAA0AAAAlAAAAFgAAABAAAAANAAAAFgAAABUA\n",
       "AAANAAAADQAAACIAAAAVAAAADQAAAA0AAAA/AAAAFQAAAA0AAAANAAAAJAAAABUAAAANAAAADQAA\n",
       "ACYAAAAVAAAADQAAAA0AAAC7AAAARgAAATIAAACBAAAAUwAAAIcAAAArAAAAQAAAABgAAABvAAAA\n",
       "LgAAAB4AAAAtAAAAcQAAADMAAABbAAAAsQAAAd4AAAC0AAAA0wAAACkAAAHTAAAADQAAACoAAAAS\n",
       "AAAADQAAAA0AAAAaAAAAEgAAAA0AAAANAAAAFgAAABIAAAANAAAADQAAABYAAAASAAAADQAAAA0A\n",
       "AAAWAAAAEgAAAA0AAAANAAAAFgAAABIAAAANAAAADQAAABYAAAASAAAADQAAAA0AAAAWAAAAEgAA\n",
       "AA0AAAANAAAAFgAAABIAAAANAAAADQAAABYAAAASAAAADQAAAA0AAAAWAAAAEgAAAA0AAAANAAAA\n",
       "FgAAABIAAAANAAAADQAAABYAAAASAAAADQAAAA0AAAAWAAAAEgAAAA0AAAANAAAAFgAAABIAAAAN\n",
       "AAAADQAAABsAAAASAAAADQAAAA0AAAAWAAAAEgAAAA0AAAANAAAAFgAAABIAAAANAAAADQAAABYA\n",
       "AAASAAAADQAAAA0AAAAWAAAAEgAAAA0AAAANAAAAFgAAABIAAAANAAAADQAAABYAAAASAAAADQAA\n",
       "AA0AAAAWAAAAEgAAAA0AAAANAAAAFgAAABIAAAANAAAADQAAABUAAAAUc3RjbwAAAAAAAAABAAAA\n",
       "LAAAAGJ1ZHRhAAAAWm1ldGEAAAAAAAAAIWhkbHIAAAAAAAAAAG1kaXJhcHBsAAAAAAAAAAAAAAAA\n",
       "LWlsc3QAAAAlqXRvbwAAAB1kYXRhAAAAAQAAAABMYXZmNTguMjkuMTAw\n",
       "\">\n",
       "  Your browser does not support the video tag.\n",
       "</video>"
      ],
      "text/plain": [
       "<IPython.core.display.HTML object>"
      ]
     },
     "execution_count": 8,
     "metadata": {},
     "output_type": "execute_result"
    }
   ],
   "source": [
    "display_video(frames, framerate)"
   ]
  },
  {
   "cell_type": "code",
   "execution_count": 9,
   "metadata": {},
   "outputs": [],
   "source": [
    "physics.reset()"
   ]
  },
  {
   "cell_type": "code",
   "execution_count": 10,
   "metadata": {},
   "outputs": [
    {
     "data": {
      "text/plain": [
       "0.0"
      ]
     },
     "execution_count": 10,
     "metadata": {},
     "output_type": "execute_result"
    }
   ],
   "source": [
    "physics.data.time"
   ]
  },
  {
   "cell_type": "code",
   "execution_count": 11,
   "metadata": {},
   "outputs": [
    {
     "data": {
      "text/plain": [
       "array([0.  , 0.  , 9.81])"
      ]
     },
     "execution_count": 11,
     "metadata": {},
     "output_type": "execute_result"
    }
   ],
   "source": [
    "physics.model.opt.gravity"
   ]
  },
  {
   "cell_type": "code",
   "execution_count": 12,
   "metadata": {},
   "outputs": [
    {
     "data": {
      "text/plain": [
       "FieldIndexer(xpos):\n",
       "          x         y         z         \n",
       "0 world [ 0         0         0       ]\n",
       "1   top [-7.48e-18  1.21e-16  0.0149  ]"
      ]
     },
     "execution_count": 12,
     "metadata": {},
     "output_type": "execute_result"
    }
   ],
   "source": [
    "physics.named.data.xpos #first put the gravity negative -> use the resulting position as the position of contact. Then change the gravity direction"
   ]
  },
  {
   "cell_type": "code",
   "execution_count": 13,
   "metadata": {},
   "outputs": [
    {
     "data": {
      "image/png": "[encoded data removed]",
      "text/plain": [
       "<PIL.Image.Image image mode=RGB size=320x240>"
      ]
     },
     "execution_count": 13,
     "metadata": {},
     "output_type": "execute_result"
    }
   ],
   "source": [
    "PIL.Image.fromarray(frames[2])"
   ]
  },
  {
   "attachments": {},
   "cell_type": "markdown",
   "metadata": {},
   "source": [
    "Now lets try this with the xml file for the walking fly."
   ]
  },
  {
   "attachments": {},
   "cell_type": "markdown",
   "metadata": {},
   "source": [
    "# Adhesion outside of XML: \n",
    "\n",
    "**Attention:** Although the actuator is not directly added in the XML file it must be initialized before the creation of the phyics environment. "
   ]
  },
  {
   "cell_type": "code",
   "execution_count": 8,
   "metadata": {},
   "outputs": [
    {
     "data": {
      "image/png": "[encoded data removed]",
      "text/plain": [
       "<PIL.Image.Image image mode=RGB size=320x240>"
      ]
     },
     "execution_count": 8,
     "metadata": {},
     "output_type": "execute_result"
    }
   ],
   "source": [
    "block_on_floor_2 = \"\"\"\n",
    "<mujoco model=\"block_on_floor\">\n",
    "  <option integrator=\"Euler\"/>\n",
    "  <option timestep=\"5e-05\" gravity = \"0 0 +9.81\" integrator=\"Euler\" solver=\"Newton\" iterations=\"1000\" tolerance=\"1e-12\" noslip_iterations=\"100\" noslip_tolerance=\"1e-08\" mpr_iterations=\"100\"/>\n",
    "  <compiler boundmass=\"1e-06\" boundinertia=\"1e-06\" angle=\"radian\" eulerseq=\"xyz\" discardvisual=\"true\" convexhull=\"true\" fusestatic=\"true\"/>\n",
    "  <size njmax=\"4096\" nconmax=\"4096\"/>\n",
    "    <visual>\n",
    "    <global offwidth=\"1280\" offheight=\"720\"/>\n",
    "    <quality shadowsize=\"1024\" offsamples=\"4\" numslices=\"28\" numstacks=\"16\" numquads=\"4\"/>\n",
    "    <map stiffness=\"100.0\" stiffnessrot=\"500.0\" force=\"2.0\" torque=\"0.001\" alpha=\"0.3\" fogstart=\"3.0\" fogend=\"10.0\" znear=\"0.1\" zfar=\"3000.0\" haze=\"0.3\" shadowclip=\"1.0\" shadowscale=\"0.3\" actuatortendon=\"2.0\"/>\n",
    "    <scale forcewidth=\"12.0\" contactwidth=\"12.0\" contactheight=\"50.0\" connect=\"1.0\" com=\"1.0\" camera=\"1.0\" light=\"1.0\" selectpoint=\"1.0\" jointlength=\"1.0\" jointwidth=\"1.0\" actuatorlength=\"1.0\" actuatorwidth=\"1.0\" framelength=\"0.01\" framewidth=\"0.01\" constraint=\"0.01\" slidercrank=\"0.01\"/>\n",
    "  </visual>\n",
    "  <statistic meanmass=\"1.0\" meaninertia=\"1.0\" meansize=\"1.0\"/>\n",
    "  <default>\n",
    "    <default class=\"nmf\"/>\n",
    "  </default>\n",
    "  <asset>\n",
    "    <texture name=\"grid\" type=\"2d\" builtin=\"checker\" rgb1=\".1 .2 .3\" \n",
    "     rgb2=\".2 .3 .4\" width=\"300\" height=\"300\"/>\n",
    "    <material name=\"grid\" texture=\"grid\" texrepeat=\"8 8\" reflectance=\".2\"/>\n",
    "  </asset>\n",
    "  <worldbody>\n",
    "    <geom size=\".2 .2 .01\" type=\"plane\" material=\"grid\"/>\n",
    "    <light pos=\"0 0 .6\"/>\n",
    "    <camera name=\"closeup\" pos=\"0 -.1 .07\" xyaxes=\"1 0 0 0 1 2\"/>\n",
    "    <body name=\"top\" pos=\"-7.48e-18  1.21e-16  0.0149\">\n",
    "      <freejoint/>\n",
    "      <geom name=\"box\" type=\"box\" size=\"0.004 .008 0.015\"/>\n",
    "    </body>\n",
    "  </worldbody>\n",
    "\n",
    "  <actuator>\n",
    "  </actuator>\n",
    "</mujoco>\n",
    "\"\"\"\n",
    "\n",
    "model_block_2 = mjcf.from_xml_string(block_on_floor)\n",
    "\n",
    "adhesion_act = [model_block_2.actuator.add('adhesion', name = 'adhadh_adhesion', body = 'top', ctrlrange=\"0 20\", gain=\"15\")]\n",
    "physics_2 = mjcf.Physics.from_mjcf_model(model_block_2)\n",
    "#physics = mujoco.Physics.from_xml_string(block_on_floor)\n",
    "PIL.Image.fromarray(physics_2.render(camera_id='closeup'))\n",
    "\n",
    "#the block sticks to the floor at 0.002 and flies away at 0.002\n",
    "\n",
    "#gravity is by default implemented as [0.    0.   -9.81], you can check by using: physics.model.opt.gravity"
   ]
  },
  {
   "cell_type": "code",
   "execution_count": null,
   "metadata": {},
   "outputs": [],
   "source": []
  },
  {
   "cell_type": "code",
   "execution_count": 9,
   "metadata": {},
   "outputs": [
    {
     "data": {
      "text/plain": [
       "[MJCF Element: <adhesion name=\"adhadh_adhesion\" class=\"/\" ctrlrange=\"0 20\" body=\"top\" gain=\"15\"/>]"
      ]
     },
     "execution_count": 9,
     "metadata": {},
     "output_type": "execute_result"
    }
   ],
   "source": [
    "adhesion_act"
   ]
  },
  {
   "cell_type": "code",
   "execution_count": 10,
   "metadata": {},
   "outputs": [],
   "source": [
    "#@title Video of the tippe-top {vertical-output: true}\n",
    "\n",
    "duration = 4    # (seconds)\n",
    "framerate = 60  # (Hz)\n",
    "time_change_adhesion = 2\n",
    "tol = 0.00001\n",
    "\n",
    "# Simulate and display video.\n",
    "frames = []\n",
    "physics_2.reset()  # Reset to keyframe 0 (load a saved state). -> 0 wont work because I dont save the state\n",
    "while physics.data.time < duration:\n",
    "\n",
    "    for adh in adhesion_act:\n",
    "\n",
    "        if time_change_adhesion < physics.data.time:\n",
    "            physics_2.bind(adh).ctrl= 2\n",
    "        else: \n",
    "            physics_2.bind(adh).ctrl = 0\n",
    "\n",
    "\n",
    "    physics.step()\n",
    "    if len(frames) < (physics_2.data.time) * framerate:\n",
    "        pixels = physics_2.render(camera_id='closeup')\n",
    "        frames.append(pixels)\n",
    "#display_video(frames, framerate)"
   ]
  },
  {
   "cell_type": "code",
   "execution_count": null,
   "metadata": {},
   "outputs": [],
   "source": []
  }
 ],
 "metadata": {
  "kernelspec": {
   "display_name": "new_virtual_env_name2",
   "language": "python",
   "name": "python3"
  },
  "language_info": {
   "codemirror_mode": {
    "name": "ipython",
    "version": 3
   },
   "file_extension": ".py",
   "mimetype": "text/x-python",
   "name": "python",
   "nbconvert_exporter": "python",
   "pygments_lexer": "ipython3",
   "version": "3.10.9"
  },
  "orig_nbformat": 4
 },
 "nbformat": 4,
 "nbformat_minor": 2
}
